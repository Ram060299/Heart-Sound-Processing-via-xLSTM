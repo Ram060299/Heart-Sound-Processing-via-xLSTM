{
  "nbformat": 4,
  "nbformat_minor": 0,
  "metadata": {
    "colab": {
      "provenance": [],
      "authorship_tag": "ABX9TyMY+KpxJVHUd5U+4XqU5GuZ",
      "include_colab_link": true
    },
    "kernelspec": {
      "name": "python3",
      "display_name": "Python 3"
    },
    "language_info": {
      "name": "python"
    }
  },
  "cells": [
    {
      "cell_type": "markdown",
      "metadata": {
        "id": "view-in-github",
        "colab_type": "text"
      },
      "source": [
        "<a href=\"https://colab.research.google.com/github/Ram060299/Heart-Sound-Processing-via-xLSTM/blob/main/Unhealthy_VAL.ipynb\" target=\"_parent\"><img src=\"https://colab.research.google.com/assets/colab-badge.svg\" alt=\"Open In Colab\"/></a>"
      ]
    },
    {
      "cell_type": "code",
      "execution_count": null,
      "metadata": {
        "colab": {
          "base_uri": "https://localhost:8080/"
        },
        "id": "DiZ_hLMZAqSM",
        "outputId": "68f3a262-2938-46ba-e44d-1df3527cebb6"
      },
      "outputs": [
        {
          "output_type": "stream",
          "name": "stdout",
          "text": [
            "Drive already mounted at /content/drive; to attempt to forcibly remount, call drive.mount(\"/content/drive\", force_remount=True).\n",
            "Zip file not found at: /content/drive/MyDrive/Unhealthy VAL.zip\n"
          ]
        }
      ],
      "source": [
        "from google.colab import drive\n",
        "drive.mount('/content/drive')\n",
        "\n",
        "import zipfile\n",
        "import os\n",
        "\n",
        "zip_path = '/content/drive/MyDrive/Unhealthy VAL.zip' # Make sure this path is correct and the file exists\n",
        "extract_path = '/content/drive/MyDrive/Unhealthy VAL_extracted'\n",
        "\n",
        "# Extract the zip file\n",
        "if not os.path.exists(extract_path):\n",
        "    os.makedirs(extract_path)\n",
        "\n",
        "# Check if the zip file exists\n",
        "if os.path.exists(zip_path):\n",
        "  with zipfile.ZipFile(zip_path, 'r') as zip_ref:\n",
        "      zip_ref.extractall(extract_path)\n",
        "\n",
        "  print(f\"Files extracted to: {extract_path}\")\n",
        "else:\n",
        "  print(f\"Zip file not found at: {zip_path}\") # Print this message if the zip file is not found\n"
      ]
    },
    {
      "cell_type": "code",
      "source": [
        "audio_files = []\n",
        "for root, dirs, files in os.walk(extract_path):\n",
        "    for file in files:\n",
        "        if file.endswith('.wav'):\n",
        "            audio_files.append(os.path.join(root, file))\n",
        "\n",
        "print(f\"Found {len(audio_files)} audio files.\")"
      ],
      "metadata": {
        "id": "Slgwnm5ODJhx",
        "colab": {
          "base_uri": "https://localhost:8080/"
        },
        "outputId": "99fe0dbd-e5aa-4ac2-f5f9-4da413470c81"
      },
      "execution_count": null,
      "outputs": [
        {
          "output_type": "stream",
          "name": "stdout",
          "text": [
            "Found 0 audio files.\n"
          ]
        }
      ]
    }
  ]
}